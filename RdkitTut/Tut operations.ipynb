{
 "cells": [
  {
   "cell_type": "code",
   "execution_count": 1,
   "metadata": {},
   "outputs": [],
   "source": [
    "import rdkit\n",
    "import rdkit.Chem as ch\n",
    "from rdkit.Chem import Descriptors \n",
    "import rdkit.Chem.Draw as dr\n",
    "from rdkit.Chem import rdFMCS as fmcs\n",
    "import pandas as pd\n",
    "\n",
    "dr.IPythonConsole.ipython_useSVG = False\n",
    "dr.IPythonConsole.drawOptions.addAtomIndices = False  #Inidicators on atoms\n",
    "dr.IPythonConsole.drawOptions.addStereoAnnotation = False  #Differense of steroPosition\n",
    "dr.rdDepictor.SetPreferCoordGen(True)  #\n"
   ]
  },
  {
   "cell_type": "markdown",
   "metadata": {},
   "source": [
    "# Desctriptors"
   ]
  },
  {
   "cell_type": "code",
   "execution_count": 2,
   "metadata": {},
   "outputs": [],
   "source": [
    "path_baseOf_BoilingPoint='D:\\WORKS\\ChemAnalit\\DataBases\\Boiling Point\\BP_training.sdf'\n",
    "path_baseOf_VapourPressure='D:\\WORKS\\ChemAnalit\\DataBases\\VapourPressure\\VP_training.sdf'\n",
    "# Why not ralative path?\n",
    "baseOf_BoilingPoint=ch.SDMolSupplier(path_baseOf_BoilingPoint)\n",
    "baseOf_VapourPressure=ch.SDMolSupplier(path_baseOf_VapourPressure)\n",
    "\n",
    "def ShowMols(base,end_number, start_number=1):\n",
    "\n",
    "    i=0\n",
    "    picture_list=[]\n",
    "    for mol in base:\n",
    "        i+=1\n",
    "        if i>= start_number:\n",
    "            picture_list.append(mol)\n",
    "        if i==end_number:\n",
    "            break\n",
    "    return dr.MolsToGridImage(picture_list)"
   ]
  },
  {
   "cell_type": "code",
   "execution_count": 3,
   "metadata": {},
   "outputs": [],
   "source": [
    "# i=0 # crutch\n",
    "\n",
    "base_list = []\n",
    "name_prop = 'Vapour pressure'\n",
    "for mol in baseOf_VapourPressure:\n",
    "    name = mol.GetProp('Name').upper()\n",
    "    vp = mol.GetProp('Tox')  # Vapour presure\n",
    "\n",
    "    mwt = Descriptors.MolWt(mol)  #molecular weight\n",
    "    havy_atoms = Descriptors.HeavyAtomCount(mol)\n",
    "    rotatable_bonds = Descriptors.NumRotatableBonds(mol)\n",
    "\n",
    "    base_list.append({\n",
    "        'Name': name,\n",
    "        'Molecular weight': mwt,\n",
    "        name_prop: vp,\n",
    "        'Havy atoms': havy_atoms,\n",
    "        'Rotatable bonds': rotatable_bonds\n",
    "    })\n",
    "    # i+=1\n",
    "    # if i==10: break\n",
    "base_PF = pd.DataFrame(base_list)\n",
    "base_PF.to_csv('Base_Frame.csv')\n"
   ]
  },
  {
   "cell_type": "code",
   "execution_count": 4,
   "metadata": {},
   "outputs": [],
   "source": [
    "# i=0\n",
    "add_list = []\n",
    "name_prop = 'Boling point'\n",
    "\n",
    "for mol in baseOf_BoilingPoint:\n",
    "    name = mol.GetProp('Name').upper()\n",
    "    vp = mol.GetProp('Tox')  # Vapour presure\n",
    "\n",
    "    add_list.append({\n",
    "        'Name': name,\n",
    "        name_prop: vp,\n",
    "    })\n",
    "    # i+=1\n",
    "    # if i==10: break\n",
    "add_PF = pd.DataFrame(add_list)\n"
   ]
  },
  {
   "cell_type": "code",
   "execution_count": 5,
   "metadata": {},
   "outputs": [],
   "source": [
    "merge_PF = base_PF.merge(add_PF, how='inner', on='Name')\n"
   ]
  },
  {
   "cell_type": "code",
   "execution_count": 6,
   "metadata": {},
   "outputs": [],
   "source": [
    "import sklearn.ensemble"
   ]
  },
  {
   "cell_type": "code",
   "execution_count": null,
   "metadata": {},
   "outputs": [],
   "source": []
  }
 ],
 "metadata": {
  "interpreter": {
   "hash": "c5d9578b588f2ac73cd2764d1f881893babc2c46e3bf6c42322c1b6508cf4b4b"
  },
  "kernelspec": {
   "display_name": "Python 3.9.10 ('RDKiEnv')",
   "language": "python",
   "name": "python3"
  },
  "language_info": {
   "codemirror_mode": {
    "name": "ipython",
    "version": 3
   },
   "file_extension": ".py",
   "mimetype": "text/x-python",
   "name": "python",
   "nbconvert_exporter": "python",
   "pygments_lexer": "ipython3",
   "version": "3.9.10"
  },
  "orig_nbformat": 4
 },
 "nbformat": 4,
 "nbformat_minor": 2
}
