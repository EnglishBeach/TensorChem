{
 "cells": [
  {
   "cell_type": "code",
   "execution_count": 1,
   "metadata": {},
   "outputs": [],
   "source": [
    "import rdkit\n",
    "import rdkit.Chem as ch\n",
    "from rdkit.Chem import Descriptors\n",
    "import rdkit.Chem.Draw as dr\n",
    "from rdkit.Chem import rdFMCS as fmcs\n",
    "import pandas as pd\n",
    "import numpy as np\n",
    "\n",
    "dr.IPythonConsole.ipython_useSVG = False\n",
    "dr.IPythonConsole.drawOptions.addAtomIndices = False  #Inidicators on atoms\n",
    "dr.IPythonConsole.drawOptions.addStereoAnnotation = False  #Differense of steroPosition\n",
    "dr.rdDepictor.SetPreferCoordGen(True) \n"
   ]
  },
  {
   "cell_type": "markdown",
   "metadata": {},
   "source": [
    "# Desctriptors"
   ]
  },
  {
   "cell_type": "code",
   "execution_count": 2,
   "metadata": {},
   "outputs": [],
   "source": [
    "path_baseOf_BoilingPoint='D:\\WORKS\\ChemAnalit\\DataBases\\Boiling Point\\BP_training.sdf'\n",
    "path_baseOf_VapourPressure='D:\\WORKS\\ChemAnalit\\DataBases\\VapourPressure\\VP_training.sdf'\n",
    "# Why not ralative path?\n",
    "baseOf_BoilingPoint=ch.SDMolSupplier(path_baseOf_BoilingPoint)\n",
    "baseOf_VapourPressure=ch.SDMolSupplier(path_baseOf_VapourPressure)\n",
    "\n",
    "def ShowMols(base,end_number, start_number=1):\n",
    "\n",
    "    i=0\n",
    "    picture_list=[]\n",
    "    for mol in base:\n",
    "        i+=1\n",
    "        if i>= start_number:\n",
    "            picture_list.append(mol)\n",
    "        if i==end_number:\n",
    "            break\n",
    "    return dr.MolsToGridImage(picture_list)"
   ]
  },
  {
   "cell_type": "code",
   "execution_count": 3,
   "metadata": {},
   "outputs": [],
   "source": [
    "# i=0 # crutch\n",
    "\n",
    "base_list = []\n",
    "name_prop = 'Vapour pressure'\n",
    "for mol in baseOf_VapourPressure:\n",
    "    name = mol.GetProp('Name').upper()\n",
    "    vp = mol.GetProp('Tox')  # Vapour presure\n",
    "\n",
    "    mwt = Descriptors.MolWt(mol)  #molecular weight\n",
    "    havy_atoms = Descriptors.HeavyAtomCount(mol)\n",
    "    rotatable_bonds = Descriptors.NumRotatableBonds(mol)\n",
    "\n",
    "    base_list.append({\n",
    "        'Name': name,\n",
    "        'Molecular weight': mwt,\n",
    "        name_prop: vp,\n",
    "        'Havy atoms': havy_atoms,\n",
    "        'Rotatable bonds': rotatable_bonds\n",
    "    })\n",
    "    # i+=1\n",
    "    # if i==10: break\n",
    "base_PF = pd.DataFrame(base_list)\n"
   ]
  },
  {
   "cell_type": "code",
   "execution_count": 4,
   "metadata": {},
   "outputs": [],
   "source": [
    "# i=0\n",
    "add_list = []\n",
    "name_prop = 'Boling point'\n",
    "\n",
    "for mol in baseOf_BoilingPoint:\n",
    "    name = mol.GetProp('Name').upper()\n",
    "    vp = mol.GetProp('Tox')  # Vapour presure\n",
    "\n",
    "    add_list.append({\n",
    "        'Name': name,\n",
    "        name_prop: vp,\n",
    "    })\n",
    "    # i+=1\n",
    "    # if i==10: break\n",
    "add_PF = pd.DataFrame(add_list)"
   ]
  },
  {
   "cell_type": "code",
   "execution_count": 5,
   "metadata": {},
   "outputs": [],
   "source": [
    "merge_PF = base_PF.merge(add_PF, how='inner', on='Name')\n",
    "merge_PF.to_csv('Frame.csv')"
   ]
  },
  {
   "cell_type": "markdown",
   "metadata": {},
   "source": [
    "# AI with Tensor Flow"
   ]
  },
  {
   "cell_type": "code",
   "execution_count": 8,
   "metadata": {},
   "outputs": [
    {
     "ename": "SyntaxError",
     "evalue": "invalid syntax (pywrap_tensorflow_internal.py, line 114)",
     "output_type": "error",
     "traceback": [
      "Traceback \u001b[1;36m(most recent call last)\u001b[0m:\n",
      "  File \u001b[0;32m\"D:\\Programs\\Anaconda\\envs\\RDKit\\lib\\site-packages\\IPython\\core\\interactiveshell.py\"\u001b[0m, line \u001b[0;32m3524\u001b[0m, in \u001b[0;35mrun_code\u001b[0m\n    exec(code_obj, self.user_global_ns, self.user_ns)\n",
      "  File \u001b[0;32m\"C:\\Users\\HOME\\AppData\\Local\\Temp\\ipykernel_4252\\2734495332.py\"\u001b[0m, line \u001b[0;32m1\u001b[0m, in \u001b[0;35m<module>\u001b[0m\n    import tensorflow\n",
      "  File \u001b[0;32m\"D:\\Programs\\Anaconda\\envs\\RDKit\\lib\\site-packages\\tensorflow\\__init__.py\"\u001b[0m, line \u001b[0;32m24\u001b[0m, in \u001b[0;35m<module>\u001b[0m\n    from tensorflow.python import pywrap_tensorflow  # pylint: disable=unused-import\n",
      "  File \u001b[0;32m\"D:\\Programs\\Anaconda\\envs\\RDKit\\lib\\site-packages\\tensorflow\\python\\__init__.py\"\u001b[0m, line \u001b[0;32m49\u001b[0m, in \u001b[0;35m<module>\u001b[0m\n    from tensorflow.python import pywrap_tensorflow\n",
      "\u001b[1;36m  File \u001b[1;32m\"D:\\Programs\\Anaconda\\envs\\RDKit\\lib\\site-packages\\tensorflow\\python\\pywrap_tensorflow.py\"\u001b[1;36m, line \u001b[1;32m58\u001b[1;36m, in \u001b[1;35m<module>\u001b[1;36m\u001b[0m\n\u001b[1;33m    from tensorflow.python.pywrap_tensorflow_internal import *\u001b[0m\n",
      "\u001b[1;36m  File \u001b[1;32m\"D:\\Programs\\Anaconda\\envs\\RDKit\\lib\\site-packages\\tensorflow\\python\\pywrap_tensorflow_internal.py\"\u001b[1;36m, line \u001b[1;32m114\u001b[0m\n\u001b[1;33m    def TFE_ContextOptionsSetAsync(arg1, async):\u001b[0m\n\u001b[1;37m                                             ^\u001b[0m\n\u001b[1;31mSyntaxError\u001b[0m\u001b[1;31m:\u001b[0m invalid syntax\n"
     ]
    }
   ],
   "source": [
    "import tensorflow\n",
    "# from tensorflow.contrib.tensor_forest.python import tensor_forest\n",
    "# import tensorflow\n",
    "# from tensorflow.python.ops import resources\n",
    "# from tensorflow.contrib.tensor_forest.client import random_forest\n",
    "\n",
    "# from tensorflow.python.estimator.inputs import numpy_io\n",
    "\n",
    "# Ignore all GPUs, tf random forest does not benefit from it.\n",
    "# import os\n",
    "# os.environ[\"CUDA_VISIBLE_DEVICES\"] = \"\""
   ]
  },
  {
   "cell_type": "code",
   "execution_count": 7,
   "metadata": {},
   "outputs": [
    {
     "ename": "NameError",
     "evalue": "name 'tfdf' is not defined",
     "output_type": "error",
     "traceback": [
      "\u001b[1;31m---------------------------------------------------------------------------\u001b[0m",
      "\u001b[1;31mNameError\u001b[0m                                 Traceback (most recent call last)",
      "\u001b[1;32m~\\AppData\\Local\\Temp\\ipykernel_10940\\2233514150.py\u001b[0m in \u001b[0;36m<module>\u001b[1;34m\u001b[0m\n\u001b[0;32m      1\u001b[0m \u001b[0mdataset\u001b[0m\u001b[1;33m=\u001b[0m\u001b[0mpd\u001b[0m\u001b[1;33m.\u001b[0m\u001b[0mread_csv\u001b[0m\u001b[1;33m(\u001b[0m\u001b[1;34m'Frame.csv'\u001b[0m\u001b[1;33m)\u001b[0m\u001b[1;33m\u001b[0m\u001b[1;33m\u001b[0m\u001b[0m\n\u001b[1;32m----> 2\u001b[1;33m \u001b[0mtf_dataset\u001b[0m \u001b[1;33m=\u001b[0m \u001b[0mtfdf\u001b[0m\u001b[1;33m.\u001b[0m\u001b[0mkeras\u001b[0m\u001b[1;33m.\u001b[0m\u001b[0mpd_dataframe_to_tf_dataset\u001b[0m\u001b[1;33m(\u001b[0m\u001b[0mdataset\u001b[0m\u001b[1;33m,\u001b[0m \u001b[0mlabel\u001b[0m\u001b[1;33m=\u001b[0m\u001b[1;34m\"my_label\"\u001b[0m\u001b[1;33m)\u001b[0m\u001b[1;33m\u001b[0m\u001b[1;33m\u001b[0m\u001b[0m\n\u001b[0m",
      "\u001b[1;31mNameError\u001b[0m: name 'tfdf' is not defined"
     ]
    }
   ],
   "source": [
    "dataset=pd.read_csv('Frame.csv')\n",
    "tf_dataset = tfdf.keras.pd_dataframe_to_tf_dataset(dataset, label=\"my_label\")"
   ]
  },
  {
   "cell_type": "code",
   "execution_count": null,
   "metadata": {},
   "outputs": [],
   "source": []
  },
  {
   "cell_type": "code",
   "execution_count": null,
   "metadata": {},
   "outputs": [],
   "source": []
  }
 ],
 "metadata": {
  "interpreter": {
   "hash": "c5d9578b588f2ac73cd2764d1f881893babc2c46e3bf6c42322c1b6508cf4b4b"
  },
  "kernelspec": {
   "display_name": "Python 3.9.10 ('RDKiEnv')",
   "language": "python",
   "name": "python3"
  },
  "language_info": {
   "codemirror_mode": {
    "name": "ipython",
    "version": 3
   },
   "file_extension": ".py",
   "mimetype": "text/x-python",
   "name": "python",
   "nbconvert_exporter": "python",
   "pygments_lexer": "ipython3",
   "version": "3.7.11"
  },
  "orig_nbformat": 4
 },
 "nbformat": 4,
 "nbformat_minor": 2
}
